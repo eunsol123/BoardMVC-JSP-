{
  "nbformat": 4,
  "nbformat_minor": 0,
  "metadata": {
    "colab": {
      "provenance": [],
      "authorship_tag": "ABX9TyMqzkcXQTVo9GkECM4LFf1E",
      "include_colab_link": true
    },
    "kernelspec": {
      "name": "python3",
      "display_name": "Python 3"
    },
    "language_info": {
      "name": "python"
    }
  },
  "cells": [
    {
      "cell_type": "markdown",
      "metadata": {
        "id": "view-in-github",
        "colab_type": "text"
      },
      "source": [
        "<a href=\"https://colab.research.google.com/github/eunsol123/BoardMVC_JSP/blob/main/%EB%AA%A8%EB%91%90%EC%9D%98_%EC%9D%B8%EA%B3%B5%EC%A7%80%EB%8A%A5_with_%ED%8C%8C%EC%9D%B4%EC%8D%AC_UNIT17.ipynb\" target=\"_parent\"><img src=\"https://colab.research.google.com/assets/colab-badge.svg\" alt=\"Open In Colab\"/></a>"
      ]
    },
    {
      "cell_type": "markdown",
      "source": [
        "corona_rnn.ipynb (전염병 예측 인공지능 만들기)"
      ],
      "metadata": {
        "id": "Mk7vnpr05Kit"
      }
    },
    {
      "cell_type": "code",
      "source": [
        "from keras.models import Sequential # 케라스의 모델 도구(models) 중 시퀀셜 모델을 불러오는 명령어\n",
        "\n",
        "from keras.layers import SimpleRNN, Dense # 레이어 도구(layers) 중 SimpleRNN과 Dense 도구를 불러오는 명령어\n",
        "\n",
        "from sklearn.preprocessing import MinMaxScaler # 데이터를 정규화하기 위한 MinMaxScaler 함수를 불러오는 명령어\n",
        "\n",
        "from sklearn.metrics import mean_squared_error # 결과의 정확도를 계산하기 위한 함수인 mean_squared_error를 불러오는 명령어\n",
        "\n",
        "from sklearn.model_selection import train_test_split # 데이터를 훈련 데이터와 검증 데이터로 나누는 명령어\n",
        "\n",
        "import math\n",
        "import numpy as np\n",
        "import matplotlib.pyplot as plt\n",
        "# 각각 수학 계산을 도와주는 math 라이브러리와 수학 계산 라이브러리인 numpy를 불러온다\n",
        "\n",
        "from pandas import read_csv # csv 파일을 불러올 수 있는 read_csv 함수를 pandas 라이브러리에서 불러오는 명령어"
      ],
      "metadata": {
        "id": "5TUZs4D35N_2"
      },
      "execution_count": null,
      "outputs": []
    },
    {
      "cell_type": "code",
      "source": [
        "!git clone https://github.com/yhlee1627/deeplearning.git # 데이터를 불러오는 코드\n",
        "\n",
        "dataframe = read_csv('/content/deeplearning/corona_daily.csv', usecols=[3], engine='python', skipfooter=3) # 파일을 읽어와서 dataframe 변수에 저장하며, 이때 읽어오는 파일의 형식은 csv 파일\n",
        "\n",
        "print(dataframe) # 읽어온 데이터(dataframe)의 모습을 출력\n",
        "\n",
        "dataset = dataframe.values # 읽어온 데이터(dataframe) 중 우리가 사용할 데이터, 즉 확진자 수 데이터만 가져온다\n",
        "\n",
        "dataset = dataset.astype('float32') # 정규화를 실시할 수 있도록 두 번째 행의 값을 실수로 바꿔준다"
      ],
      "metadata": {
        "colab": {
          "base_uri": "https://localhost:8080/"
        },
        "id": "Q8KIj9CUWa4H",
        "outputId": "cbc7c55b-6b9b-4bab-9d68-24afb8226b6e"
      },
      "execution_count": null,
      "outputs": [
        {
          "output_type": "stream",
          "name": "stdout",
          "text": [
            "fatal: destination path 'deeplearning' already exists and is not an empty directory.\n",
            "     Confirmed\n",
            "0           24\n",
            "1           24\n",
            "2           27\n",
            "3           27\n",
            "4           28\n",
            "..         ...\n",
            "107      11190\n",
            "108      11206\n",
            "109      11225\n",
            "110      11265\n",
            "111      11344\n",
            "\n",
            "[112 rows x 1 columns]\n"
          ]
        }
      ]
    },
    {
      "cell_type": "code",
      "source": [
        "scaler = MinMaxScaler(feature_range=(0, 1))\n",
        "# 정규화하기 위한 방법을 scaler로 정하고, 이를 위해 사이킷런 라이브러리 중 MinMax Scaler 함수를 사용\n",
        "# 데이터를 정규화하는 범위를 0~1 사이의 값(feature_range=(0, 1))으로 결정\n",
        "\n",
        "Dataset = scaler.fit_transform(dataset)\n",
        "# 정규화 방법인 scaler를 사용한 후, MinMaxScaler 함수 중 fit_trans form 함수를 사용하여 데이터를 정규화\n",
        "# 이렇게 정규화한 데이터를 Dataset으로 정한다\n",
        "\n",
        "train_data, test_data = train_test_split(Dataset, test_size=0.2, shuffle=False)\n",
        "# 인공지능 모델을 만들 때에는 훈련 데이터와 검증 데이터를 사용\n",
        "\n",
        "print(len(train_data), len(test_data))\n",
        "# 훈련 데이터의 개수와 검증 데이터의 개수를 출력하는 코드"
      ],
      "metadata": {
        "colab": {
          "base_uri": "https://localhost:8080/"
        },
        "id": "Uu8RhcYfYIDP",
        "outputId": "fc37a0ec-0ee8-4277-8b28-4ae91cd757ac"
      },
      "execution_count": null,
      "outputs": [
        {
          "output_type": "stream",
          "name": "stdout",
          "text": [
            "89 23\n"
          ]
        }
      ]
    },
    {
      "cell_type": "code",
      "source": [
        "def create_dataset(dataset, look_back): # def를 사용하여 create_dataset 함수를 만들어 준다\n",
        "\n",
        "    x_data = []\n",
        "    y_data = []\n",
        "    # 배열([])을 사용하여 각각 x_data와 y_data를 넣을 수 있는 공간을 만든다\n",
        "\n",
        "    for i in range(len(dataset)-look_back-1): # range 함수를 사용하여 몇 번을 반복할지 정해 준다\n",
        "\n",
        "        data = dataset[i:(i+look_back), 0] # 1일차부터 3일차까지의 데이터를 뽑아야 하기 때문에 전체 데이터(dataset)의 첫 번째부터 세 번째까지 열의 데이터를 추출\n",
        "\n",
        "        x_data.append(data) # append 함수를 사용하여 바로 앞에서 추출한 3개의 연속된 데이터(data)를 x_data 배열에 넣어준다\n",
        "\n",
        "        y_data.append(dataset[i + look_back, 0]) # 데이터를 추출하는 과정과 추출할 데이터를 배열에 넣는 과정\n",
        "\n",
        "    return np.array(x_data), np.array(y_data) # 최종적으로 변환된 x_data와 y_data를 모델에서 계산을 쉽게 하도록 넘파이 배열로 바꿔준다"
      ],
      "metadata": {
        "id": "d9pHTyUbey1R"
      },
      "execution_count": null,
      "outputs": []
    },
    {
      "cell_type": "code",
      "source": [
        "look_back = 3 # 며칠 동안의 연속된 데이터를 바탕으로 인공지능에서 학습할지를 정해주는 코드\n",
        "\n",
        "x_train, y_train = create_dataset(train_data, look_back) \n",
        "# 훈련 데이터를 생성하기 위해 17.4절에서 만든 create_dataset 함수를 호출\n",
        "# 첫 번째 생성되는 x_data를 x_train 데이터로, 두 번째 생성되는 y_data를 y_train 데이터로 넣는다\n",
        "\n",
        "x_test, y_test = create_dataset(test_data, look_back) \n",
        "# 검증 데이터를 생성하기 위해 create_dataset 함수를 호출\n",
        "# 함수에 전달할 인자 중 첫 번째 인자에 검증 데이터(test_data)를 넣는다\n",
        "# 두 번째 인자에 look_back을 넣는다 마찬가지로 첫 번째 생성되는 x_data를 x_test 데이터로, 두 번째 생성되는 y_data를 y_test 데이터로 넣는다\n",
        "\n",
        "print(x_train.shape, y_train.shape) # 훈련 데이터 중 입력 데이터(x_train)의 모습(shape)과 훈련 데이터 중 출력 데이터(y_train)의 모습(shape)\n",
        "\n",
        "print(x_test.shape, y_test.shape) # 검증 데이터 중 입력 데이터(x_test)의 모습(shape)과 검증 데이터 중 출력 데이터(y_test)의 모습(shape)"
      ],
      "metadata": {
        "colab": {
          "base_uri": "https://localhost:8080/"
        },
        "id": "HFQC1DgGud7t",
        "outputId": "62967d78-2b6b-4c7e-edd3-0ffcb2c64509"
      },
      "execution_count": null,
      "outputs": [
        {
          "output_type": "stream",
          "name": "stdout",
          "text": [
            "(85, 3) (85,)\n",
            "(19, 3) (19,)\n"
          ]
        }
      ]
    },
    {
      "cell_type": "code",
      "source": [
        "X_train = np.reshape(x_train, (x_train.shape[0], 1, x_train.shape[1]))\n",
        "# 넘파이(np) 라이브러리 중 형태를 바꿔 주는 함수(reshape)를 사용하여 훈련 데이터(x_train)의 형태를 바꿔준다\n",
        "# 첫 번째에는 바꿀 데이터(x_train)를, 두 번째에는 어떤 형태로 바꿀지를 넣어준다\n",
        "\n",
        "X_test = np.reshape(x_test, (x_test.shape[0], 1, x_test.shape[1]))\n",
        "# 검증 데이터(x_test) 역시 같은 방식으로 바꿔준다\n",
        "\n",
        "print(X_train.shape)\n",
        "# 바뀐 형태의 훈련 데이터(x_train)의 모습(shape)\n",
        "\n",
        "print(X_test.shape)\n",
        "# 바뀐 형태의 훈련 데이터(x_test)의 모습(shape)"
      ],
      "metadata": {
        "colab": {
          "base_uri": "https://localhost:8080/"
        },
        "id": "taIeFQgb3bCL",
        "outputId": "b0b487e1-fd0c-4803-ac32-48ce03fb1f96"
      },
      "execution_count": null,
      "outputs": [
        {
          "output_type": "stream",
          "name": "stdout",
          "text": [
            "(85, 1, 3)\n",
            "(19, 1, 3)\n"
          ]
        }
      ]
    },
    {
      "cell_type": "code",
      "source": [
        "model = Sequential() # model이라는 인공지능 모델을 만든다 (이 모델은 시퀀셜 모델이다)\n",
        "\n",
        "model.add(SimpleRNN(3, input_shape=(1, look_back)))\n",
        "# RNN 기법 중 SimpleRNN을 사용\n",
        "# SimpleRNN의 뉴런의 수는 3개(이 값은 변경해도 상관없습니다)이며, 어떤 데이터의 형태를 넣는지(input_shape=(1, look_back))를 결정해준다\n",
        "\n",
        "model.add(Dense(1, activation=\"linear\")) # 최종 예측 값은 연속된 데이터 이후의 값, 즉 확진자의 수\n",
        "\n",
        "model.compile(loss='mse', optimizer='adam')\n",
        "# 인공지능을 계산하는 방법을 결정\n",
        "# 손실 함수는 mse(평균 제곱 오차, mean_squared_error)로, 옵티마이저는 adam 옵티마이저를 사용한다\n",
        "\n",
        "model.summary() # 생성된 모델을 요약"
      ],
      "metadata": {
        "colab": {
          "base_uri": "https://localhost:8080/"
        },
        "id": "vcPpkDST5Wzv",
        "outputId": "21336ef9-295c-475b-c888-8281b7914e60"
      },
      "execution_count": null,
      "outputs": [
        {
          "output_type": "stream",
          "name": "stdout",
          "text": [
            "Model: \"sequential_1\"\n",
            "_________________________________________________________________\n",
            " Layer (type)                Output Shape              Param #   \n",
            "=================================================================\n",
            " simple_rnn_1 (SimpleRNN)    (None, 3)                 21        \n",
            "                                                                 \n",
            " dense_1 (Dense)             (None, 1)                 4         \n",
            "                                                                 \n",
            "=================================================================\n",
            "Total params: 25\n",
            "Trainable params: 25\n",
            "Non-trainable params: 0\n",
            "_________________________________________________________________\n"
          ]
        }
      ]
    },
    {
      "cell_type": "code",
      "source": [
        "model.fit(X_train, y_train, epochs=100, batch_size=1, verbose=1) # 케라스의 함수를 사용하여 모델을 학습\n",
        "# 입력 데이터(x_train), 출력 데이터(y_train), 반복 횟수(epochs=100), 한 번에 학습시킬 데이터의 양(batch_size=1)을 설정\n",
        "# 학습의 진행 경과는 에포크별 진행 사항을 간단히 알려주는 방식인 verbose=1로 설정"
      ],
      "metadata": {
        "colab": {
          "base_uri": "https://localhost:8080/"
        },
        "id": "6JI5KPTt7nNX",
        "outputId": "86766417-1737-4492-d08a-d8e9d6b65e5e"
      },
      "execution_count": null,
      "outputs": [
        {
          "output_type": "stream",
          "name": "stdout",
          "text": [
            "Epoch 1/100\n",
            "85/85 [==============================] - 0s 2ms/step - loss: 6.8592e-04\n",
            "Epoch 2/100\n",
            "85/85 [==============================] - 0s 2ms/step - loss: 6.6333e-04\n",
            "Epoch 3/100\n",
            "85/85 [==============================] - 0s 2ms/step - loss: 6.8578e-04\n",
            "Epoch 4/100\n",
            "85/85 [==============================] - 0s 2ms/step - loss: 6.6244e-04\n",
            "Epoch 5/100\n",
            "85/85 [==============================] - 0s 2ms/step - loss: 6.4120e-04\n",
            "Epoch 6/100\n",
            "85/85 [==============================] - 0s 2ms/step - loss: 6.5812e-04\n",
            "Epoch 7/100\n",
            "85/85 [==============================] - 0s 2ms/step - loss: 6.2651e-04\n",
            "Epoch 8/100\n",
            "85/85 [==============================] - 0s 2ms/step - loss: 6.3951e-04\n",
            "Epoch 9/100\n",
            "85/85 [==============================] - 0s 2ms/step - loss: 5.9864e-04\n",
            "Epoch 10/100\n",
            "85/85 [==============================] - 0s 2ms/step - loss: 6.3457e-04\n",
            "Epoch 11/100\n",
            "85/85 [==============================] - 0s 2ms/step - loss: 6.0636e-04\n",
            "Epoch 12/100\n",
            "85/85 [==============================] - 0s 2ms/step - loss: 6.2664e-04\n",
            "Epoch 13/100\n",
            "85/85 [==============================] - 0s 2ms/step - loss: 6.1471e-04\n",
            "Epoch 14/100\n",
            "85/85 [==============================] - 0s 2ms/step - loss: 6.2828e-04\n",
            "Epoch 15/100\n",
            "85/85 [==============================] - 0s 2ms/step - loss: 5.9260e-04\n",
            "Epoch 16/100\n",
            "85/85 [==============================] - 0s 2ms/step - loss: 5.5938e-04\n",
            "Epoch 17/100\n",
            "85/85 [==============================] - 0s 2ms/step - loss: 5.8004e-04\n",
            "Epoch 18/100\n",
            "85/85 [==============================] - 0s 2ms/step - loss: 5.7243e-04\n",
            "Epoch 19/100\n",
            "85/85 [==============================] - 0s 2ms/step - loss: 5.7534e-04\n",
            "Epoch 20/100\n",
            "85/85 [==============================] - 0s 1ms/step - loss: 5.3068e-04\n",
            "Epoch 21/100\n",
            "85/85 [==============================] - 0s 2ms/step - loss: 5.8724e-04\n",
            "Epoch 22/100\n",
            "85/85 [==============================] - 0s 2ms/step - loss: 5.5748e-04\n",
            "Epoch 23/100\n",
            "85/85 [==============================] - 0s 2ms/step - loss: 5.5993e-04\n",
            "Epoch 24/100\n",
            "85/85 [==============================] - 0s 2ms/step - loss: 5.3066e-04\n",
            "Epoch 25/100\n",
            "85/85 [==============================] - 0s 2ms/step - loss: 5.5760e-04\n",
            "Epoch 26/100\n",
            "85/85 [==============================] - 0s 2ms/step - loss: 5.2395e-04\n",
            "Epoch 27/100\n",
            "85/85 [==============================] - 0s 2ms/step - loss: 5.8653e-04\n",
            "Epoch 28/100\n",
            "85/85 [==============================] - 0s 2ms/step - loss: 4.9216e-04\n",
            "Epoch 29/100\n",
            "85/85 [==============================] - 0s 2ms/step - loss: 5.1128e-04\n",
            "Epoch 30/100\n",
            "85/85 [==============================] - 0s 2ms/step - loss: 5.2993e-04\n",
            "Epoch 31/100\n",
            "85/85 [==============================] - 0s 2ms/step - loss: 4.7915e-04\n",
            "Epoch 32/100\n",
            "85/85 [==============================] - 0s 2ms/step - loss: 4.9116e-04\n",
            "Epoch 33/100\n",
            "85/85 [==============================] - 0s 2ms/step - loss: 4.8948e-04\n",
            "Epoch 34/100\n",
            "85/85 [==============================] - 0s 1ms/step - loss: 4.6467e-04\n",
            "Epoch 35/100\n",
            "85/85 [==============================] - 0s 1ms/step - loss: 4.8093e-04\n",
            "Epoch 36/100\n",
            "85/85 [==============================] - 0s 2ms/step - loss: 4.3208e-04\n",
            "Epoch 37/100\n",
            "85/85 [==============================] - 0s 2ms/step - loss: 4.6633e-04\n",
            "Epoch 38/100\n",
            "85/85 [==============================] - 0s 2ms/step - loss: 4.6880e-04\n",
            "Epoch 39/100\n",
            "85/85 [==============================] - 0s 1ms/step - loss: 5.0076e-04\n",
            "Epoch 40/100\n",
            "85/85 [==============================] - 0s 2ms/step - loss: 4.7510e-04\n",
            "Epoch 41/100\n",
            "85/85 [==============================] - 0s 2ms/step - loss: 4.3105e-04\n",
            "Epoch 42/100\n",
            "85/85 [==============================] - 0s 2ms/step - loss: 4.5803e-04\n",
            "Epoch 43/100\n",
            "85/85 [==============================] - 0s 1ms/step - loss: 4.2202e-04\n",
            "Epoch 44/100\n",
            "85/85 [==============================] - 0s 2ms/step - loss: 4.1322e-04\n",
            "Epoch 45/100\n",
            "85/85 [==============================] - 0s 1ms/step - loss: 3.9097e-04\n",
            "Epoch 46/100\n",
            "85/85 [==============================] - 0s 2ms/step - loss: 4.1747e-04\n",
            "Epoch 47/100\n",
            "85/85 [==============================] - 0s 2ms/step - loss: 4.0159e-04\n",
            "Epoch 48/100\n",
            "85/85 [==============================] - 0s 2ms/step - loss: 4.3514e-04\n",
            "Epoch 49/100\n",
            "85/85 [==============================] - 0s 1ms/step - loss: 3.8646e-04\n",
            "Epoch 50/100\n",
            "85/85 [==============================] - 0s 2ms/step - loss: 4.0527e-04\n",
            "Epoch 51/100\n",
            "85/85 [==============================] - 0s 2ms/step - loss: 4.1509e-04\n",
            "Epoch 52/100\n",
            "85/85 [==============================] - 0s 2ms/step - loss: 3.9538e-04\n",
            "Epoch 53/100\n",
            "85/85 [==============================] - 0s 2ms/step - loss: 3.9002e-04\n",
            "Epoch 54/100\n",
            "85/85 [==============================] - 0s 2ms/step - loss: 3.9100e-04\n",
            "Epoch 55/100\n",
            "85/85 [==============================] - 0s 2ms/step - loss: 3.6197e-04\n",
            "Epoch 56/100\n",
            "85/85 [==============================] - 0s 2ms/step - loss: 3.5289e-04\n",
            "Epoch 57/100\n",
            "85/85 [==============================] - 0s 2ms/step - loss: 3.4354e-04\n",
            "Epoch 58/100\n",
            "85/85 [==============================] - 0s 2ms/step - loss: 3.4043e-04\n",
            "Epoch 59/100\n",
            "85/85 [==============================] - 0s 2ms/step - loss: 3.5402e-04\n",
            "Epoch 60/100\n",
            "85/85 [==============================] - 0s 2ms/step - loss: 3.5628e-04\n",
            "Epoch 61/100\n",
            "85/85 [==============================] - 0s 2ms/step - loss: 3.3268e-04\n",
            "Epoch 62/100\n",
            "85/85 [==============================] - 0s 2ms/step - loss: 3.2404e-04\n",
            "Epoch 63/100\n",
            "85/85 [==============================] - 0s 2ms/step - loss: 3.2673e-04\n",
            "Epoch 64/100\n",
            "85/85 [==============================] - 0s 2ms/step - loss: 3.2263e-04\n",
            "Epoch 65/100\n",
            "85/85 [==============================] - 0s 2ms/step - loss: 3.4617e-04\n",
            "Epoch 66/100\n",
            "85/85 [==============================] - 0s 2ms/step - loss: 3.1182e-04\n",
            "Epoch 67/100\n",
            "85/85 [==============================] - 0s 1ms/step - loss: 3.1677e-04\n",
            "Epoch 68/100\n",
            "85/85 [==============================] - 0s 2ms/step - loss: 3.0512e-04\n",
            "Epoch 69/100\n",
            "85/85 [==============================] - 0s 2ms/step - loss: 3.0021e-04\n",
            "Epoch 70/100\n",
            "85/85 [==============================] - 0s 2ms/step - loss: 3.1599e-04\n",
            "Epoch 71/100\n",
            "85/85 [==============================] - 0s 2ms/step - loss: 3.0807e-04\n",
            "Epoch 72/100\n",
            "85/85 [==============================] - 0s 2ms/step - loss: 2.8162e-04\n",
            "Epoch 73/100\n",
            "85/85 [==============================] - 0s 2ms/step - loss: 2.8118e-04\n",
            "Epoch 74/100\n",
            "85/85 [==============================] - 0s 2ms/step - loss: 2.9959e-04\n",
            "Epoch 75/100\n",
            "85/85 [==============================] - 0s 2ms/step - loss: 2.7733e-04\n",
            "Epoch 76/100\n",
            "85/85 [==============================] - 0s 2ms/step - loss: 2.6563e-04\n",
            "Epoch 77/100\n",
            "85/85 [==============================] - 0s 2ms/step - loss: 2.8641e-04\n",
            "Epoch 78/100\n",
            "85/85 [==============================] - 0s 2ms/step - loss: 2.9072e-04\n",
            "Epoch 79/100\n",
            "85/85 [==============================] - 0s 1ms/step - loss: 2.4982e-04\n",
            "Epoch 80/100\n",
            "85/85 [==============================] - 0s 2ms/step - loss: 2.4110e-04\n",
            "Epoch 81/100\n",
            "85/85 [==============================] - 0s 2ms/step - loss: 2.4727e-04\n",
            "Epoch 82/100\n",
            "85/85 [==============================] - 0s 2ms/step - loss: 2.4963e-04\n",
            "Epoch 83/100\n",
            "85/85 [==============================] - 0s 2ms/step - loss: 2.3645e-04\n",
            "Epoch 84/100\n",
            "85/85 [==============================] - 0s 2ms/step - loss: 2.5197e-04\n",
            "Epoch 85/100\n",
            "85/85 [==============================] - 0s 2ms/step - loss: 2.3886e-04\n",
            "Epoch 86/100\n",
            "85/85 [==============================] - 0s 2ms/step - loss: 2.5354e-04\n",
            "Epoch 87/100\n",
            "85/85 [==============================] - 0s 2ms/step - loss: 2.1906e-04\n",
            "Epoch 88/100\n",
            "85/85 [==============================] - 0s 2ms/step - loss: 2.2946e-04\n",
            "Epoch 89/100\n",
            "85/85 [==============================] - 0s 2ms/step - loss: 2.1825e-04\n",
            "Epoch 90/100\n",
            "85/85 [==============================] - 0s 2ms/step - loss: 2.3831e-04\n",
            "Epoch 91/100\n",
            "85/85 [==============================] - 0s 2ms/step - loss: 1.9928e-04\n",
            "Epoch 92/100\n",
            "85/85 [==============================] - 0s 2ms/step - loss: 2.3061e-04\n",
            "Epoch 93/100\n",
            "85/85 [==============================] - 0s 2ms/step - loss: 2.1633e-04\n",
            "Epoch 94/100\n",
            "85/85 [==============================] - 0s 2ms/step - loss: 2.1060e-04\n",
            "Epoch 95/100\n",
            "85/85 [==============================] - 0s 2ms/step - loss: 1.9908e-04\n",
            "Epoch 96/100\n",
            "85/85 [==============================] - 0s 2ms/step - loss: 1.9720e-04\n",
            "Epoch 97/100\n",
            "85/85 [==============================] - 0s 2ms/step - loss: 1.9457e-04\n",
            "Epoch 98/100\n",
            "85/85 [==============================] - 0s 2ms/step - loss: 1.8343e-04\n",
            "Epoch 99/100\n",
            "85/85 [==============================] - 0s 2ms/step - loss: 1.9986e-04\n",
            "Epoch 100/100\n",
            "85/85 [==============================] - 0s 1ms/step - loss: 1.8597e-04\n"
          ]
        },
        {
          "output_type": "execute_result",
          "data": {
            "text/plain": [
              "<keras.callbacks.History at 0x7f6b862cc9d0>"
            ]
          },
          "metadata": {},
          "execution_count": 29
        }
      ]
    },
    {
      "cell_type": "code",
      "source": [
        "trainPredict = model.predict(X_train)\n",
        "# 케라스에는 생성한 인공지능 모델에 데이터를 넣어서 결괏값을 생성하는 predict 함수가 있다\n",
        "# 이 함수를 사용하여 훈련 데이터(X_train)의 값을 모델에 넣어 값을 예측하고, 그 예측 값을 trainPredict에 넣는다\n",
        "\n",
        "testPredict = model.predict(X_test)\n",
        "# predict 함수를 사용하여 검증 데이터(X_test)의 값을 모델에 넣어 값을 예측한다. 그리고 그 예측 값을 trainPredict에 넣는다\n",
        "\n",
        "TrainPredict = scaler.inverse_transform(trainPredict) \n",
        "# 훈련 데이터의 예측 값(trainPredict)을 scaler 라이브러리의 inverse_transform 함수를 사용하여 0과 1 사이의 값을 정규화하기 전의 확진자의 수로 바꾼다\n",
        "\n",
        "Y_train = scaler.inverse_transform([y_train])\n",
        "# 실제 확진자 수를 나타내는 훈련 데이터(y_train)의 형태를 변형하여 Y_train 변수에 넣는다\n",
        "\n",
        "TestPredict = scaler.inverse_transform(testPredict)\n",
        "# 훈련 데이터의 예측 값, testPredict 변수에 들어 있는 값을 변형하여 TestPredict 변수에 저장한다\n",
        "\n",
        "Y_test = scaler.inverse_transform([y_test]) \n",
        "# 검증 데이터의 형태를 변형하여 Y_test 변수에 넣는다"
      ],
      "metadata": {
        "id": "ib5uKi848RnU"
      },
      "execution_count": null,
      "outputs": []
    },
    {
      "cell_type": "code",
      "source": [
        "trainScore = math.sqrt(mean_squared_error(Y_train[0], TrainPredict[:,0]))\n",
        "\n",
        "print('Train Score: %.2f RMSE' % (trainScore))\n",
        "\n",
        "testScore = math.sqrt(mean_squared_error(Y_test[0], TestPredict[:,0]))\n",
        "\n",
        "print('Test Score: %.2f RMSE' % (testScore))"
      ],
      "metadata": {
        "colab": {
          "base_uri": "https://localhost:8080/"
        },
        "id": "Si46EHFb_8U6",
        "outputId": "42ad62a6-3739-4092-c53d-c254fea57717"
      },
      "execution_count": null,
      "outputs": [
        {
          "output_type": "stream",
          "name": "stdout",
          "text": [
            "Train Score: 145.79 RMSE\n",
            "Test Score: 189.65 RMSE\n"
          ]
        }
      ]
    },
    {
      "cell_type": "code",
      "source": [
        "trainPredictPlot = np.empty_like(dataset)\n",
        "trainPredictPlot[:, :] = np.nan\n",
        "trainPredictPlot[look_back:len(TrainPredict)+look_back, :] = TrainPredict\n",
        "testPredictPlot = np.empty_like(dataset)\n",
        "testPredictPlot[:, :] = np.nan\n",
        "plt.plot(dataset)\n",
        "plt.plot(trainPredictPlot)\n",
        "plt.plot(testPredictPlot)\n",
        "plt.show()"
      ],
      "metadata": {
        "colab": {
          "base_uri": "https://localhost:8080/",
          "height": 265
        },
        "id": "Xo9UwKMvABGr",
        "outputId": "7e06cf03-7352-4bfb-a062-a159fe87cf9d"
      },
      "execution_count": null,
      "outputs": [
        {
          "output_type": "display_data",
          "data": {
            "text/plain": [
              "<Figure size 432x288 with 1 Axes>"
            ],
            "image/png": "[encoded data removed]"
          },
          "metadata": {
            "needs_background": "light"
          }
        }
      ]
    }
  ]
}