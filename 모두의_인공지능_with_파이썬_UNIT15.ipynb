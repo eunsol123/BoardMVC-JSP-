{
  "nbformat": 4,
  "nbformat_minor": 0,
  "metadata": {
    "colab": {
      "provenance": [],
      "authorship_tag": "ABX9TyOWcvHKppXA0o4LLipzxLNP",
      "include_colab_link": true
    },
    "kernelspec": {
      "name": "python3",
      "display_name": "Python 3"
    },
    "language_info": {
      "name": "python"
    },
    "accelerator": "GPU"
  },
  "cells": [
    {
      "cell_type": "markdown",
      "metadata": {
        "id": "view-in-github",
        "colab_type": "text"
      },
      "source": [
        "<a href=\"https://colab.research.google.com/github/eunsol123/BoardMVC_JSP/blob/main/%EB%AA%A8%EB%91%90%EC%9D%98_%EC%9D%B8%EA%B3%B5%EC%A7%80%EB%8A%A5_with_%ED%8C%8C%EC%9D%B4%EC%8D%AC_UNIT15.ipynb\" target=\"_parent\"><img src=\"https://colab.research.google.com/assets/colab-badge.svg\" alt=\"Open In Colab\"/></a>"
      ]
    },
    {
      "cell_type": "markdown",
      "source": [
        "기본 설정"
      ],
      "metadata": {
        "id": "ZC8Gc2N7Hk5E"
      }
    },
    {
      "cell_type": "code",
      "execution_count": 3,
      "metadata": {
        "colab": {
          "base_uri": "https://localhost:8080/"
        },
        "id": "SYkZTQDA_yiq",
        "outputId": "3524f4c6-b0f4-4e4f-e7a5-bb9b1cfa6fb9"
      },
      "outputs": [
        {
          "output_type": "stream",
          "name": "stdout",
          "text": [
            "Colab only includes TensorFlow 2.x; %tensorflow_version has no effect.\n"
          ]
        }
      ],
      "source": [
        "%tensorflow_version # 텐서플로 라이브러리의 버전을 확인"
      ]
    },
    {
      "cell_type": "code",
      "source": [
        "import keras # 케라스 라이브러리를 불러오는 코드"
      ],
      "metadata": {
        "id": "-PSlSWqXBLwV"
      },
      "execution_count": 4,
      "outputs": []
    },
    {
      "cell_type": "markdown",
      "source": [
        "mnist_deeplearning"
      ],
      "metadata": {
        "id": "r7GKPCkZHeHk"
      }
    },
    {
      "cell_type": "code",
      "source": [
        "from tensorflow.keras.models import Sequential # 시퀀셜(순차적인 신경망을 구성할 때 사용할 수 있는 함수) 모델을 불러오는 명령어\n",
        "\n",
        "from tensorflow.keras.layers import Dense, Activation # 레이어 도구(layers) 중 Dense와 Activation 도구를 불러오는 명령어\n",
        "\n",
        "from tensorflow.keras.utils import to_categorical # 유틸 도구(utils) 중 to_categorical 함수를 불러오는 명령어\n",
        "\n",
        "from tensorflow.keras.datasets import mnist # mnist 데이터셋(케리스를 사용하여 딥러닝 모델 개발을 연습할 수 있는 데이터)을 불러오는 명령어\n",
        "\n",
        "import numpy as np # 넘파이라는 수학 계산 라이브러리를 사용한다 이때 as 명령어로 함수 이름을 바꿀 수 있다. 이제 우리는 numpy를 np로 줄여서 사용\n",
        "\n",
        "import matplotlib.pyplot as plt #맷플로립(matplotlib)이라는 그래프 라이브러리를 사용"
      ],
      "metadata": {
        "id": "gn1FtqGSBVSc"
      },
      "execution_count": 2,
      "outputs": []
    },
    {
      "cell_type": "code",
      "source": [
        "(x_train, y_train), (x_test, y_test) = mnist.load_data() # mnist 데이터셋에는 load_data()라는 함수가 포함되어 있는데 mnist 데이터셋에서 데이터를 불러오라는 명령어\n",
        "\n",
        "print(\"x_train shape\", x_train.shape) # print문을 사용하여 x_train 데이터의 형태를 출력하는 명령어\n",
        "\n",
        "print(\"y_train shape\", y_train.shape) # print문을 사용하여 y_train 데이터의 형태를 출력하는 명령어\n",
        "\n",
        "print(\"x_test shape\", x_test.shape) # print문을 사용하여 x_test 데이터의 형태를 출력하는 명령어 (x_train 데이터와 다른 점은 데이터의 총 개수)\n",
        "\n",
        "print(\"y_test shape\", y_test.shape) # print문을 사용하여 y_test 데이터의 형태를 출력하는 명령어 (y_train 데이터와 다른 점은 데이터의 총 개수)"
      ],
      "metadata": {
        "colab": {
          "base_uri": "https://localhost:8080/"
        },
        "id": "XjzpgNnzHiI2",
        "outputId": "054e0780-15f2-46e9-9afb-6637508bd7a5"
      },
      "execution_count": 4,
      "outputs": [
        {
          "output_type": "stream",
          "name": "stdout",
          "text": [
            "x_train shape (60000, 28, 28)\n",
            "y_train shape (60000,)\n",
            "x_test shape (10000, 28, 28)\n",
            "y_test shape (10000,)\n"
          ]
        }
      ]
    },
    {
      "cell_type": "code",
      "source": [
        "X_train = x_train.reshape(60000, 784) # 28×28 형태인 x_train 데이터를 1×784로 바꾸는 명령어\n",
        "\n",
        "X_test = x_test.reshape(10000, 784) # 28×28 형태인 x_test 데이터를 1×784로 바꾸는 명령어\n",
        "\n",
        "X_train = X_train.astype('float32') # 정수 형태인 X_train 데이터의 형태를 실수 형태로 바꾸고 그 데이터를 다시 X_train 변수에 넣는다 (데이터가 정규화하기 때문에 자료형을 실수 형태로 바꿔 준다)\n",
        "\n",
        "X_test = X_test.astype('float32') # 정수 형태인 X_test 데이터의 형태를 실수 형태로 바꾸고 그 데이터를 다시 X_test 변수에 넣는다 (데이터가 정규화하기 때문에 자료형을 실수 형태로 바꿔 준다)\n",
        "\n",
        "X_train /= 255 # X_train의 각 데이터를 255로 나눈 값을 다시 X_train에 저장하는 코드\n",
        "\n",
        "X_test /= 255 # X_test의 각 데이터를 255로 나눈 값을 다시 X_test에 저장하는 코드\n",
        "\n",
        "print(\"X Training matrix shape\", X_train.shape) # X_train 데이터의 바뀐 형태를 출력\n",
        "\n",
        "print(\"X Testing matrix shape\", X_test.shape) # X_test 데이터의 바뀐 형태를 출력"
      ],
      "metadata": {
        "colab": {
          "base_uri": "https://localhost:8080/"
        },
        "id": "gAZG4uuTVXSZ",
        "outputId": "e5ebf8d9-0962-4787-9cf8-91e4503c1740"
      },
      "execution_count": 7,
      "outputs": [
        {
          "output_type": "stream",
          "name": "stdout",
          "text": [
            "X Training matrix shape (60000, 784)\n",
            "X Testing matrix shape (10000, 784)\n"
          ]
        }
      ]
    },
    {
      "cell_type": "code",
      "source": [
        "Y_train = to_categorical(y_train, 10) # Y_train 데이터를 원-핫 인코딩하여 Y_train에 넣는다\n",
        "\n",
        "Y_test = to_categorical(y_test, 10) # y_test 데이터를 원-핫 인코딩하여 Y_test에 넣는다\n",
        "\n",
        "print(\"Y Training matrix shape\", Y_train.shape) # Y_train 데이터의 바뀐 형태를 출력한다\n",
        "\n",
        "print(\"Y Testing matrix shape\", Y_test.shape) # Y_test 데이터의 바뀐 형태를 출력한다"
      ],
      "metadata": {
        "colab": {
          "base_uri": "https://localhost:8080/"
        },
        "id": "J-GpDHSIXwUj",
        "outputId": "6490814e-0538-4641-906a-3cf52b892c0a"
      },
      "execution_count": 9,
      "outputs": [
        {
          "output_type": "stream",
          "name": "stdout",
          "text": [
            "Y Training matrix shape (60000, 10)\n",
            "Y Testing matrix shape (10000, 10)\n"
          ]
        }
      ]
    },
    {
      "cell_type": "code",
      "source": [
        "model = Sequential() # 딥러닝에 사용할 모델(model)을 시퀀셜 모델(Sequential)로 정의한다\n",
        "\n",
        "model.add(Dense(512, input_shape=(784,)))\n",
        "\n",
        "model.add(Activation('relu'))\n",
        "\n",
        "model.add(Dense(256))\n",
        "\n",
        "model.add(Activation('relu'))\n",
        "\n",
        "model.add(Dense(10))\n",
        "\n",
        "model.add(Activation('softmax'))\n",
        "\n",
        "model.summary()"
      ],
      "metadata": {
        "colab": {
          "base_uri": "https://localhost:8080/"
        },
        "id": "C_tFc4ZMbpO2",
        "outputId": "638f3c4a-8b70-459a-81bf-e327a36b9f44"
      },
      "execution_count": 10,
      "outputs": [
        {
          "output_type": "stream",
          "name": "stdout",
          "text": [
            "Model: \"sequential\"\n",
            "_________________________________________________________________\n",
            " Layer (type)                Output Shape              Param #   \n",
            "=================================================================\n",
            " dense (Dense)               (None, 512)               401920    \n",
            "                                                                 \n",
            " activation (Activation)     (None, 512)               0         \n",
            "                                                                 \n",
            " dense_1 (Dense)             (None, 256)               131328    \n",
            "                                                                 \n",
            " activation_1 (Activation)   (None, 256)               0         \n",
            "                                                                 \n",
            " dense_2 (Dense)             (None, 10)                2570      \n",
            "                                                                 \n",
            " activation_2 (Activation)   (None, 10)                0         \n",
            "                                                                 \n",
            "=================================================================\n",
            "Total params: 535,818\n",
            "Trainable params: 535,818\n",
            "Non-trainable params: 0\n",
            "_________________________________________________________________\n"
          ]
        }
      ]
    }
  ]
}